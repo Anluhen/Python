{
 "cells": [
  {
   "cell_type": "code",
   "execution_count": 1,
   "id": "2fb9dd0d",
   "metadata": {},
   "outputs": [],
   "source": [
    "# Principal função é mapear elementos com o tipo por chave:valor\n",
    "\n",
    "# Por exemplo, suas transações de cartão de crédito são armazenadas desta forma pelos bancos"
   ]
  },
  {
   "cell_type": "code",
   "execution_count": 2,
   "id": "d411a5fe",
   "metadata": {},
   "outputs": [
    {
     "data": {
      "text/plain": [
       "{'Endereço': 'Rua do COliseu', 'Cidade': 'Roma', 'Salário': 2500}"
      ]
     },
     "execution_count": 2,
     "metadata": {},
     "output_type": "execute_result"
    }
   ],
   "source": [
    "# Criando um dicionário\n",
    "\n",
    "dic_1 = dict(Cidade = \"Roma\", Pais = \"Itália\")\n",
    "dic_2 = {'Endereço': \"Rua do COliseu\", 'Cidade': \"Roma\", \"Salário\":2500}\n",
    "dic_3 = {}\n",
    "\n",
    "dic_2"
   ]
  },
  {
   "cell_type": "code",
   "execution_count": 3,
   "id": "db4eff74",
   "metadata": {},
   "outputs": [
    {
     "data": {
      "text/plain": [
       "dict"
      ]
     },
     "execution_count": 3,
     "metadata": {},
     "output_type": "execute_result"
    }
   ],
   "source": [
    "type(dic_1)"
   ]
  },
  {
   "cell_type": "code",
   "execution_count": 4,
   "id": "e1ffd9f7",
   "metadata": {},
   "outputs": [
    {
     "name": "stdout",
     "output_type": "stream",
     "text": [
      "2\n",
      "3\n"
     ]
    }
   ],
   "source": [
    "print(len(dic_1))\n",
    "print(len(dic_2))"
   ]
  },
  {
   "cell_type": "code",
   "execution_count": 5,
   "id": "9e246ea5",
   "metadata": {},
   "outputs": [
    {
     "data": {
      "text/plain": [
       "dict_keys(['Cidade', 'Pais'])"
      ]
     },
     "execution_count": 5,
     "metadata": {},
     "output_type": "execute_result"
    }
   ],
   "source": [
    "# Acessando o dicionário\n",
    "\n",
    "dic_1.keys()"
   ]
  },
  {
   "cell_type": "code",
   "execution_count": 6,
   "id": "36cc938f",
   "metadata": {},
   "outputs": [
    {
     "data": {
      "text/plain": [
       "dict_values(['Roma', 'Itália'])"
      ]
     },
     "execution_count": 6,
     "metadata": {},
     "output_type": "execute_result"
    }
   ],
   "source": [
    "dic_1.values()"
   ]
  },
  {
   "cell_type": "code",
   "execution_count": 7,
   "id": "c83b392d",
   "metadata": {},
   "outputs": [
    {
     "data": {
      "text/plain": [
       "dict_items([('Cidade', 'Roma'), ('Pais', 'Itália')])"
      ]
     },
     "execution_count": 7,
     "metadata": {},
     "output_type": "execute_result"
    }
   ],
   "source": [
    "dic_1.items()"
   ]
  },
  {
   "cell_type": "code",
   "execution_count": 8,
   "id": "78e42fa8",
   "metadata": {},
   "outputs": [],
   "source": [
    "# Alterando o valor\n",
    "\n",
    "dic_1[\"Cidade\"] = \"Milão\""
   ]
  },
  {
   "cell_type": "code",
   "execution_count": 9,
   "id": "4fe67e3e",
   "metadata": {},
   "outputs": [
    {
     "data": {
      "text/plain": [
       "'Milão'"
      ]
     },
     "execution_count": 9,
     "metadata": {},
     "output_type": "execute_result"
    }
   ],
   "source": [
    "dic_1[\"Cidade\"]"
   ]
  },
  {
   "cell_type": "code",
   "execution_count": 10,
   "id": "5ed7e2a6",
   "metadata": {},
   "outputs": [
    {
     "data": {
      "text/plain": [
       "{'Cidade': 'Milão', 'Pais': 'Itália', 'Endereço': 'Piazza Navonna'}"
      ]
     },
     "execution_count": 10,
     "metadata": {},
     "output_type": "execute_result"
    }
   ],
   "source": [
    "dic_1[\"Endereço\"] = \"Piazza Navonna\"\n",
    "\n",
    "dic_1"
   ]
  },
  {
   "cell_type": "code",
   "execution_count": 12,
   "id": "13cc545c",
   "metadata": {},
   "outputs": [
    {
     "data": {
      "text/plain": [
       "True"
      ]
     },
     "execution_count": 12,
     "metadata": {},
     "output_type": "execute_result"
    }
   ],
   "source": [
    "# Como saber se um endereço existe?\n",
    "\n",
    "\"Itália\" in dic_1.values()"
   ]
  },
  {
   "cell_type": "code",
   "execution_count": 13,
   "id": "a3c832bf",
   "metadata": {},
   "outputs": [
    {
     "data": {
      "text/plain": [
       "True"
      ]
     },
     "execution_count": 13,
     "metadata": {},
     "output_type": "execute_result"
    }
   ],
   "source": [
    "\"Cidade\" in dic_1.keys()"
   ]
  },
  {
   "cell_type": "code",
   "execution_count": null,
   "id": "9bc693f8",
   "metadata": {},
   "outputs": [],
   "source": []
  }
 ],
 "metadata": {
  "kernelspec": {
   "display_name": "Python 3 (ipykernel)",
   "language": "python",
   "name": "python3"
  },
  "language_info": {
   "codemirror_mode": {
    "name": "ipython",
    "version": 3
   },
   "file_extension": ".py",
   "mimetype": "text/x-python",
   "name": "python",
   "nbconvert_exporter": "python",
   "pygments_lexer": "ipython3",
   "version": "3.9.7"
  }
 },
 "nbformat": 4,
 "nbformat_minor": 5
}
