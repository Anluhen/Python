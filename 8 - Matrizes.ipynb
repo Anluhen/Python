{
 "cells": [
  {
   "cell_type": "code",
   "execution_count": 1,
   "id": "a9291f37",
   "metadata": {},
   "outputs": [],
   "source": [
    "matriz_1 = [[10, 11, 12],\n",
    "           [13, 14, 15]]"
   ]
  },
  {
   "cell_type": "code",
   "execution_count": 2,
   "id": "e3d7d3a4",
   "metadata": {},
   "outputs": [
    {
     "data": {
      "text/plain": [
       "[[10, 11, 12], [13, 14, 15]]"
      ]
     },
     "execution_count": 2,
     "metadata": {},
     "output_type": "execute_result"
    }
   ],
   "source": [
    "matriz_1"
   ]
  },
  {
   "cell_type": "code",
   "execution_count": 3,
   "id": "35145706",
   "metadata": {},
   "outputs": [
    {
     "data": {
      "text/plain": [
       "2"
      ]
     },
     "execution_count": 3,
     "metadata": {},
     "output_type": "execute_result"
    }
   ],
   "source": [
    "len(matriz_1)"
   ]
  },
  {
   "cell_type": "code",
   "execution_count": 5,
   "id": "add12d3e",
   "metadata": {},
   "outputs": [
    {
     "name": "stdout",
     "output_type": "stream",
     "text": [
      "15\n",
      "[10, 11, 12]\n"
     ]
    }
   ],
   "source": [
    "# Acessando um elemento dentro de uma matriz\n",
    "\n",
    "print(matriz_1[1][2])\n",
    "\n",
    "# Ou acessar toda uma linha\n",
    "\n",
    "print(matriz_1[0])"
   ]
  },
  {
   "cell_type": "code",
   "execution_count": 6,
   "id": "2af3a5f2",
   "metadata": {},
   "outputs": [],
   "source": [
    "# Vamos precisar da biblioteca numpy\n",
    "\n",
    "import numpy as np"
   ]
  },
  {
   "cell_type": "code",
   "execution_count": 25,
   "id": "e12d7a36",
   "metadata": {},
   "outputs": [],
   "source": [
    "matriz_2 = np.array([[10, 11, 12],\n",
    "                    [13, 14, 15],\n",
    "                     [16, 17, 18]])"
   ]
  },
  {
   "cell_type": "code",
   "execution_count": 9,
   "id": "22f7e8ab",
   "metadata": {},
   "outputs": [
    {
     "data": {
      "text/plain": [
       "array([[10, 11, 12],\n",
       "       [13, 14, 15],\n",
       "       [16, 17, 18]])"
      ]
     },
     "execution_count": 9,
     "metadata": {},
     "output_type": "execute_result"
    }
   ],
   "source": [
    "matriz_2"
   ]
  },
  {
   "cell_type": "code",
   "execution_count": 10,
   "id": "c198b7bc",
   "metadata": {},
   "outputs": [
    {
     "data": {
      "text/plain": [
       "3"
      ]
     },
     "execution_count": 10,
     "metadata": {},
     "output_type": "execute_result"
    }
   ],
   "source": [
    "len(matriz_2)"
   ]
  },
  {
   "cell_type": "code",
   "execution_count": 11,
   "id": "5a25c2e5",
   "metadata": {},
   "outputs": [
    {
     "data": {
      "text/plain": [
       "(3, 3)"
      ]
     },
     "execution_count": 11,
     "metadata": {},
     "output_type": "execute_result"
    }
   ],
   "source": [
    "matriz_2.shape"
   ]
  },
  {
   "cell_type": "code",
   "execution_count": 12,
   "id": "568ff0a0",
   "metadata": {},
   "outputs": [
    {
     "data": {
      "text/plain": [
       "array([10, 11, 12])"
      ]
     },
     "execution_count": 12,
     "metadata": {},
     "output_type": "execute_result"
    }
   ],
   "source": [
    "matriz_2[0]"
   ]
  },
  {
   "cell_type": "code",
   "execution_count": 13,
   "id": "dc6081dc",
   "metadata": {},
   "outputs": [
    {
     "data": {
      "text/plain": [
       "array([12, 15, 18])"
      ]
     },
     "execution_count": 13,
     "metadata": {},
     "output_type": "execute_result"
    }
   ],
   "source": [
    "matriz_2[:, 2]"
   ]
  },
  {
   "cell_type": "code",
   "execution_count": 14,
   "id": "0c5ad398",
   "metadata": {},
   "outputs": [
    {
     "data": {
      "text/plain": [
       "12"
      ]
     },
     "execution_count": 14,
     "metadata": {},
     "output_type": "execute_result"
    }
   ],
   "source": [
    "matriz_2[0,2]"
   ]
  },
  {
   "cell_type": "code",
   "execution_count": 17,
   "id": "d10a0074",
   "metadata": {},
   "outputs": [
    {
     "data": {
      "text/plain": [
       "array([15, 18])"
      ]
     },
     "execution_count": 17,
     "metadata": {},
     "output_type": "execute_result"
    }
   ],
   "source": [
    "matriz_2[1:3,2]"
   ]
  },
  {
   "cell_type": "code",
   "execution_count": 18,
   "id": "f9b74110",
   "metadata": {},
   "outputs": [],
   "source": [
    "# Adicionando todas as funções do numpy\n",
    "\n",
    "from numpy import *"
   ]
  },
  {
   "cell_type": "code",
   "execution_count": 28,
   "id": "9ff48ea8",
   "metadata": {},
   "outputs": [
    {
     "data": {
      "text/plain": [
       "array([[10, 11, 12],\n",
       "       [13, 14, 15],\n",
       "       [16, 17, 18],\n",
       "       [19, 20, 21],\n",
       "       [19, 20, 21]])"
      ]
     },
     "execution_count": 28,
     "metadata": {},
     "output_type": "execute_result"
    }
   ],
   "source": [
    "matriz_2 = append(matriz_2, [[19, 20, 21]], 0)\n",
    "\n",
    "matriz_2"
   ]
  },
  {
   "cell_type": "code",
   "execution_count": 29,
   "id": "cec66b8c",
   "metadata": {},
   "outputs": [],
   "source": [
    "matriz_2 = insert(matriz_2,[3],[[1],[2],[3],[4],[5]],1)"
   ]
  },
  {
   "cell_type": "code",
   "execution_count": 30,
   "id": "46926738",
   "metadata": {},
   "outputs": [
    {
     "data": {
      "text/plain": [
       "array([[10, 11, 12,  1],\n",
       "       [13, 14, 15,  2],\n",
       "       [16, 17, 18,  3],\n",
       "       [19, 20, 21,  4],\n",
       "       [19, 20, 21,  5]])"
      ]
     },
     "execution_count": 30,
     "metadata": {},
     "output_type": "execute_result"
    }
   ],
   "source": [
    "matriz_2"
   ]
  },
  {
   "cell_type": "code",
   "execution_count": 32,
   "id": "80269c7f",
   "metadata": {},
   "outputs": [
    {
     "data": {
      "text/plain": [
       "array([[20, 22, 24,  2],\n",
       "       [26, 28, 30,  4],\n",
       "       [32, 34, 36,  6],\n",
       "       [38, 40, 42,  8],\n",
       "       [38, 40, 42, 10]])"
      ]
     },
     "execution_count": 32,
     "metadata": {},
     "output_type": "execute_result"
    }
   ],
   "source": [
    "# Operações com matrizes\n",
    "\n",
    "matriz_3 = matriz_2*2\n",
    "\n",
    "matriz_3"
   ]
  },
  {
   "cell_type": "code",
   "execution_count": 33,
   "id": "aa176782",
   "metadata": {},
   "outputs": [
    {
     "data": {
      "text/plain": [
       "array([0., 0., 0., 0., 0.])"
      ]
     },
     "execution_count": 33,
     "metadata": {},
     "output_type": "execute_result"
    }
   ],
   "source": [
    "zeros = np.zeros(5)\n",
    "\n",
    "zeros"
   ]
  },
  {
   "cell_type": "code",
   "execution_count": 35,
   "id": "b001e893",
   "metadata": {},
   "outputs": [
    {
     "data": {
      "text/plain": [
       "array([[0., 0.],\n",
       "       [0., 0.],\n",
       "       [0., 0.],\n",
       "       [0., 0.],\n",
       "       [0., 0.]])"
      ]
     },
     "execution_count": 35,
     "metadata": {},
     "output_type": "execute_result"
    }
   ],
   "source": [
    "zeros = np.zeros((5,2))\n",
    "\n",
    "zeros"
   ]
  },
  {
   "cell_type": "code",
   "execution_count": null,
   "id": "a033b52d",
   "metadata": {},
   "outputs": [],
   "source": []
  }
 ],
 "metadata": {
  "kernelspec": {
   "display_name": "Python 3 (ipykernel)",
   "language": "python",
   "name": "python3"
  },
  "language_info": {
   "codemirror_mode": {
    "name": "ipython",
    "version": 3
   },
   "file_extension": ".py",
   "mimetype": "text/x-python",
   "name": "python",
   "nbconvert_exporter": "python",
   "pygments_lexer": "ipython3",
   "version": "3.9.7"
  }
 },
 "nbformat": 4,
 "nbformat_minor": 5
}
