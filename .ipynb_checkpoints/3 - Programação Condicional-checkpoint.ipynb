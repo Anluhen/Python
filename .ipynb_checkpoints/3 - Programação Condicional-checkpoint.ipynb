{
 "cells": [
  {
   "cell_type": "code",
   "execution_count": 1,
   "id": "4f063877",
   "metadata": {},
   "outputs": [],
   "source": [
    "# Programa condicional\n",
    "# Maior ou menor de idade"
   ]
  },
  {
   "cell_type": "code",
   "execution_count": 4,
   "id": "31bdf1ba",
   "metadata": {},
   "outputs": [],
   "source": [
    "i = 65"
   ]
  },
  {
   "cell_type": "code",
   "execution_count": 5,
   "id": "343f8eba",
   "metadata": {},
   "outputs": [
    {
     "name": "stdout",
     "output_type": "stream",
     "text": [
      "Maior de idade\n"
     ]
    }
   ],
   "source": [
    "if i < 18:\n",
    "    print(\"Menor de idade\")\n",
    "else:\n",
    "    print(\"Maior de idade\")"
   ]
  },
  {
   "cell_type": "code",
   "execution_count": 7,
   "id": "ddf0e11f",
   "metadata": {},
   "outputs": [],
   "source": [
    "# Imposto de renda\n",
    "\n",
    "s = 20000"
   ]
  },
  {
   "cell_type": "code",
   "execution_count": 8,
   "id": "21159fc4",
   "metadata": {},
   "outputs": [],
   "source": [
    "if s < 10000:\n",
    "    ir = 0\n",
    "elif s < 30000:\n",
    "    ir = 0.3\n",
    "else:\n",
    "    ir = 0.4        "
   ]
  },
  {
   "cell_type": "code",
   "execution_count": 11,
   "id": "1fac6944",
   "metadata": {},
   "outputs": [
    {
     "name": "stdout",
     "output_type": "stream",
     "text": [
      "Meu imposto de renda é: 6000.0 Reais\n"
     ]
    }
   ],
   "source": [
    "print(\"Meu imposto de renda é:\", s*ir, \"Reais\")"
   ]
  },
  {
   "cell_type": "code",
   "execution_count": null,
   "id": "b6704b2b",
   "metadata": {},
   "outputs": [],
   "source": []
  }
 ],
 "metadata": {
  "kernelspec": {
   "display_name": "Python 3 (ipykernel)",
   "language": "python",
   "name": "python3"
  },
  "language_info": {
   "codemirror_mode": {
    "name": "ipython",
    "version": 3
   },
   "file_extension": ".py",
   "mimetype": "text/x-python",
   "name": "python",
   "nbconvert_exporter": "python",
   "pygments_lexer": "ipython3",
   "version": "3.9.7"
  }
 },
 "nbformat": 4,
 "nbformat_minor": 5
}
