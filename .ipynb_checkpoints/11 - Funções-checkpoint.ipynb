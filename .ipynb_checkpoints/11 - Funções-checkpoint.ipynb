{
 "cells": [
  {
   "cell_type": "code",
   "execution_count": 1,
   "id": "a3bb4a0f",
   "metadata": {},
   "outputs": [],
   "source": [
    "def soma_quadrados(a,b):\n",
    "    return a*a+b*b"
   ]
  },
  {
   "cell_type": "code",
   "execution_count": 2,
   "id": "e41c56e6",
   "metadata": {},
   "outputs": [
    {
     "data": {
      "text/plain": [
       "8"
      ]
     },
     "execution_count": 2,
     "metadata": {},
     "output_type": "execute_result"
    }
   ],
   "source": [
    "soma_quadrados(2,2)"
   ]
  },
  {
   "cell_type": "code",
   "execution_count": 3,
   "id": "3d8e950e",
   "metadata": {},
   "outputs": [],
   "source": [
    "import datetime"
   ]
  },
  {
   "cell_type": "code",
   "execution_count": 4,
   "id": "b1fcb1bc",
   "metadata": {},
   "outputs": [],
   "source": [
    "def dia_de_hoje():\n",
    "    print(\"Hoje é \" + str(datetime.datetime.now()))"
   ]
  },
  {
   "cell_type": "code",
   "execution_count": 5,
   "id": "c2bf9416",
   "metadata": {},
   "outputs": [
    {
     "name": "stdout",
     "output_type": "stream",
     "text": [
      "Hoje é 2022-03-24 12:58:50.031269\n"
     ]
    }
   ],
   "source": [
    "dia_de_hoje()"
   ]
  },
  {
   "cell_type": "code",
   "execution_count": 6,
   "id": "dd61403a",
   "metadata": {},
   "outputs": [],
   "source": [
    "def dia_hoje(texto = \"Hoje é \"):\n",
    "    print(texto + str(datetime.datetime.now()))"
   ]
  },
  {
   "cell_type": "code",
   "execution_count": 9,
   "id": "835c5f88",
   "metadata": {},
   "outputs": [
    {
     "name": "stdout",
     "output_type": "stream",
     "text": [
      "Hoje no Brasil é 2022-03-24 13:00:39.977428\n"
     ]
    }
   ],
   "source": [
    "dia_hoje(\"Hoje no Brasil é \")"
   ]
  },
  {
   "cell_type": "code",
   "execution_count": 11,
   "id": "be1f3df1",
   "metadata": {},
   "outputs": [
    {
     "name": "stdout",
     "output_type": "stream",
     "text": [
      "[  0.   1.   1.   2.   3.   5.   8.  13.  21.  34.  55.  89. 144. 233.\n",
      " 377.]\n"
     ]
    }
   ],
   "source": [
    "import numpy as np\n",
    "\n",
    "n_elementos = 15\n",
    "\n",
    "fibonacci = np.zeros(n_elementos)\n",
    "fibonacci[1] = 1\n",
    "\n",
    "for f in list(range(2, n_elementos)):\n",
    "    fibonacci[f] = fibonacci[f - 1] + fibonacci[ f - 2]\n",
    "    \n",
    "print(fibonacci)"
   ]
  },
  {
   "cell_type": "code",
   "execution_count": 13,
   "id": "c1d2b6af",
   "metadata": {},
   "outputs": [],
   "source": [
    "def fibonacci(n_elementos):\n",
    "    fibonacci = np.zeros(n_elementos)\n",
    "    fibonacci[1] = 1\n",
    "\n",
    "    for f in list(range(2, n_elementos)):\n",
    "        fibonacci[f] = fibonacci[f - 1] + fibonacci[ f - 2]\n",
    "    \n",
    "    print(fibonacci)"
   ]
  },
  {
   "cell_type": "code",
   "execution_count": 15,
   "id": "0220f8d4",
   "metadata": {},
   "outputs": [
    {
     "name": "stdout",
     "output_type": "stream",
     "text": [
      "[  0.   1.   1.   2.   3.   5.   8.  13.  21.  34.  55.  89. 144. 233.\n",
      " 377.]\n"
     ]
    }
   ],
   "source": [
    "fibonacci(15)"
   ]
  },
  {
   "cell_type": "code",
   "execution_count": 23,
   "id": "8d314a06",
   "metadata": {},
   "outputs": [],
   "source": [
    "def minha_rna(entradas, saidas, iteracoes = 1000):\n",
    "\n",
    "    w1 = 2*np.random.random((2,4)) - 1\n",
    "    w2 = 2*np.random.random((4,1)) - 1\n",
    "\n",
    "    for iteracao in range(10000):\n",
    "        camada1 = 1/ (1 + np.exp(-(np.dot(entradas,w1))))\n",
    "        camada2 = 1/ (1 + np.exp(-(np.dot(camada1,w2))))\n",
    "        camada2_delta = (saidas-camada2)*(camada2*(1-camada2))\n",
    "        camada1_delta = (camada2_delta.dot(w2.T))*(camada1*(1-camada1))\n",
    "        w2 += camada1.T.dot(camada2_delta)\n",
    "        w1 += entradas.T.dot(camada1_delta) \n",
    "        \n",
    "    print(camada2.round())"
   ]
  },
  {
   "cell_type": "code",
   "execution_count": 25,
   "id": "9c2481c4",
   "metadata": {},
   "outputs": [
    {
     "name": "stdout",
     "output_type": "stream",
     "text": [
      "[[0.]\n",
      " [0.]\n",
      " [0.]\n",
      " [1.]]\n"
     ]
    }
   ],
   "source": [
    "# Porta lógica AND\n",
    "entradas = np.array([[0,0],[0,1],[1,0],[1,1]])\n",
    "saidas = np.array([[0,0,0,1]]).T\n",
    "\n",
    "minha_rna(entradas, saidas)"
   ]
  },
  {
   "cell_type": "code",
   "execution_count": 26,
   "id": "f77df4ad",
   "metadata": {},
   "outputs": [
    {
     "name": "stdout",
     "output_type": "stream",
     "text": [
      "[[0.]\n",
      " [1.]\n",
      " [1.]\n",
      " [1.]]\n"
     ]
    }
   ],
   "source": [
    "# Porta lógica OR\n",
    "entradas = np.array([[0,0],[0,1],[1,0],[1,1]])\n",
    "saidas = np.array([[0,1,1,1]]).T\n",
    "\n",
    "minha_rna(entradas, saidas)"
   ]
  },
  {
   "cell_type": "code",
   "execution_count": 27,
   "id": "0a91129d",
   "metadata": {},
   "outputs": [
    {
     "name": "stdout",
     "output_type": "stream",
     "text": [
      "[[0.]\n",
      " [1.]\n",
      " [1.]\n",
      " [0.]]\n"
     ]
    }
   ],
   "source": [
    "# Porta lógica XOR\n",
    "entradas = np.array([[0,0],[0,1],[1,0],[1,1]])\n",
    "saidas = np.array([[0,1,1,0]]).T\n",
    "\n",
    "minha_rna(entradas, saidas)"
   ]
  },
  {
   "cell_type": "code",
   "execution_count": null,
   "id": "9ee59c22",
   "metadata": {},
   "outputs": [],
   "source": []
  }
 ],
 "metadata": {
  "kernelspec": {
   "display_name": "Python 3 (ipykernel)",
   "language": "python",
   "name": "python3"
  },
  "language_info": {
   "codemirror_mode": {
    "name": "ipython",
    "version": 3
   },
   "file_extension": ".py",
   "mimetype": "text/x-python",
   "name": "python",
   "nbconvert_exporter": "python",
   "pygments_lexer": "ipython3",
   "version": "3.9.7"
  }
 },
 "nbformat": 4,
 "nbformat_minor": 5
}
