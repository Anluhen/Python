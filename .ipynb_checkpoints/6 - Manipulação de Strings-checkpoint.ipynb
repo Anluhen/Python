{
 "cells": [
  {
   "cell_type": "code",
   "execution_count": 2,
   "id": "b9e7c2e0",
   "metadata": {},
   "outputs": [],
   "source": [
    "# Fundamental para leituras de arquivos, manipulações e aplicações de mineração de textos"
   ]
  },
  {
   "cell_type": "code",
   "execution_count": 3,
   "id": "d31f4bf0",
   "metadata": {},
   "outputs": [
    {
     "data": {
      "text/plain": [
       "'Invista 30% do seu salário'"
      ]
     },
     "execution_count": 3,
     "metadata": {},
     "output_type": "execute_result"
    }
   ],
   "source": [
    "# Isto é uma string\n",
    "\n",
    "\"Invista 30% do seu salário\""
   ]
  },
  {
   "cell_type": "code",
   "execution_count": 4,
   "id": "21d6a384",
   "metadata": {},
   "outputs": [
    {
     "data": {
      "text/plain": [
       "'Invista 30% do seu salário'"
      ]
     },
     "execution_count": 4,
     "metadata": {},
     "output_type": "execute_result"
    }
   ],
   "source": [
    "dica_invest = \"Invista 30% do seu salário\"\n",
    "\n",
    "dica_invest"
   ]
  },
  {
   "cell_type": "code",
   "execution_count": 5,
   "id": "3d02b89d",
   "metadata": {},
   "outputs": [
    {
     "data": {
      "text/plain": [
       "str"
      ]
     },
     "execution_count": 5,
     "metadata": {},
     "output_type": "execute_result"
    }
   ],
   "source": [
    "type(dica_invest)"
   ]
  },
  {
   "cell_type": "code",
   "execution_count": 6,
   "id": "5ace4a6f",
   "metadata": {},
   "outputs": [
    {
     "data": {
      "text/plain": [
       "26"
      ]
     },
     "execution_count": 6,
     "metadata": {},
     "output_type": "execute_result"
    }
   ],
   "source": [
    "len(dica_invest)"
   ]
  },
  {
   "cell_type": "code",
   "execution_count": 8,
   "id": "5336a3f0",
   "metadata": {},
   "outputs": [
    {
     "data": {
      "text/plain": [
       "5"
      ]
     },
     "execution_count": 8,
     "metadata": {},
     "output_type": "execute_result"
    }
   ],
   "source": [
    "len(dica_invest.split())"
   ]
  },
  {
   "cell_type": "code",
   "execution_count": 10,
   "id": "cd162e8e",
   "metadata": {},
   "outputs": [
    {
     "data": {
      "text/plain": [
       "'Um mais Um igual a dois'"
      ]
     },
     "execution_count": 10,
     "metadata": {},
     "output_type": "execute_result"
    }
   ],
   "source": [
    "# Concatenando palavras\n",
    "\n",
    "\"Um\" + \" mais\" + \" Um\" + \" igual\" + \" a\" + \" dois\""
   ]
  },
  {
   "cell_type": "code",
   "execution_count": 11,
   "id": "fe32e51d",
   "metadata": {},
   "outputs": [
    {
     "name": "stdout",
     "output_type": "stream",
     "text": [
      "Life always finds a way\n"
     ]
    }
   ],
   "source": [
    "# Formatando o print\n",
    "\n",
    "s1 = \"Life\"\n",
    "s2 = 'always'\n",
    "s3 = \"finds a way\"\n",
    "\n",
    "print(s1 + \" \" + s2 + \" \" + s3)"
   ]
  },
  {
   "cell_type": "code",
   "execution_count": 12,
   "id": "de4c1ce2",
   "metadata": {},
   "outputs": [
    {
     "name": "stdout",
     "output_type": "stream",
     "text": [
      "NÃO POUPEI DESPESAS\n",
      "não poupei despesas\n"
     ]
    }
   ],
   "source": [
    "# Maiúsculas e minúsculas\n",
    "\n",
    "case = \"Não poupei despesas\"\n",
    "\n",
    "print(case.upper())\n",
    "print(case.lower())"
   ]
  },
  {
   "cell_type": "code",
   "execution_count": 14,
   "id": "bb2b58c9",
   "metadata": {},
   "outputs": [
    {
     "data": {
      "text/plain": [
       "'poupei'"
      ]
     },
     "execution_count": 14,
     "metadata": {},
     "output_type": "execute_result"
    }
   ],
   "source": [
    "case[4:10]"
   ]
  },
  {
   "cell_type": "code",
   "execution_count": null,
   "id": "fb93f923",
   "metadata": {},
   "outputs": [],
   "source": []
  }
 ],
 "metadata": {
  "kernelspec": {
   "display_name": "Python 3 (ipykernel)",
   "language": "python",
   "name": "python3"
  },
  "language_info": {
   "codemirror_mode": {
    "name": "ipython",
    "version": 3
   },
   "file_extension": ".py",
   "mimetype": "text/x-python",
   "name": "python",
   "nbconvert_exporter": "python",
   "pygments_lexer": "ipython3",
   "version": "3.9.7"
  }
 },
 "nbformat": 4,
 "nbformat_minor": 5
}
