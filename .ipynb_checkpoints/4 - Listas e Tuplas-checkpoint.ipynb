{
 "cells": [
  {
   "cell_type": "code",
   "execution_count": 8,
   "id": "b45336af",
   "metadata": {},
   "outputs": [],
   "source": [
    "# Isto é uma lista\n",
    "lista_1 = [21, \"Oi\", 23]"
   ]
  },
  {
   "cell_type": "code",
   "execution_count": 9,
   "id": "59d4f827",
   "metadata": {},
   "outputs": [
    {
     "data": {
      "text/plain": [
       "[21, 'Oi', 23]"
      ]
     },
     "execution_count": 9,
     "metadata": {},
     "output_type": "execute_result"
    }
   ],
   "source": [
    "lista_1"
   ]
  },
  {
   "cell_type": "code",
   "execution_count": 10,
   "id": "06184bda",
   "metadata": {},
   "outputs": [
    {
     "data": {
      "text/plain": [
       "list"
      ]
     },
     "execution_count": 10,
     "metadata": {},
     "output_type": "execute_result"
    }
   ],
   "source": [
    "type(lista_1)"
   ]
  },
  {
   "cell_type": "code",
   "execution_count": 11,
   "id": "81aa8a68",
   "metadata": {},
   "outputs": [
    {
     "name": "stdout",
     "output_type": "stream",
     "text": [
      "21\n",
      "Oi\n",
      "23\n"
     ]
    }
   ],
   "source": [
    "# Como acessar os elementos\n",
    "print(lista_1[0])\n",
    "print(lista_1[1])\n",
    "print(lista_1[2])"
   ]
  },
  {
   "cell_type": "code",
   "execution_count": 12,
   "id": "56207adc",
   "metadata": {},
   "outputs": [],
   "source": [
    "# Como alterar a lista\n",
    "lista_1[2] = \"Bom dia\""
   ]
  },
  {
   "cell_type": "code",
   "execution_count": 13,
   "id": "6919a4ca",
   "metadata": {},
   "outputs": [
    {
     "data": {
      "text/plain": [
       "[21, 'Oi', 'Bom dia']"
      ]
     },
     "execution_count": 13,
     "metadata": {},
     "output_type": "execute_result"
    }
   ],
   "source": [
    "lista_1"
   ]
  },
  {
   "cell_type": "code",
   "execution_count": 14,
   "id": "cb28587c",
   "metadata": {},
   "outputs": [],
   "source": [
    "# Isto é uma tupla\n",
    "tupla_1 = (1, \"Três\", \"Roma\")"
   ]
  },
  {
   "cell_type": "code",
   "execution_count": 15,
   "id": "2257ca2d",
   "metadata": {},
   "outputs": [],
   "source": [
    "# Pode ser criada sem os ()\n",
    "conteudo = \"Itália\", 2, True"
   ]
  },
  {
   "cell_type": "code",
   "execution_count": 16,
   "id": "24b92426",
   "metadata": {},
   "outputs": [
    {
     "data": {
      "text/plain": [
       "('Itália', 2, True)"
      ]
     },
     "execution_count": 16,
     "metadata": {},
     "output_type": "execute_result"
    }
   ],
   "source": [
    "conteudo"
   ]
  },
  {
   "cell_type": "code",
   "execution_count": 17,
   "id": "e9185bf7",
   "metadata": {},
   "outputs": [
    {
     "data": {
      "text/plain": [
       "(1, 'Três', 'Roma')"
      ]
     },
     "execution_count": 17,
     "metadata": {},
     "output_type": "execute_result"
    }
   ],
   "source": [
    "tupla_1"
   ]
  },
  {
   "cell_type": "code",
   "execution_count": 18,
   "id": "659c1858",
   "metadata": {},
   "outputs": [
    {
     "data": {
      "text/plain": [
       "tuple"
      ]
     },
     "execution_count": 18,
     "metadata": {},
     "output_type": "execute_result"
    }
   ],
   "source": [
    "type(tupla_1)"
   ]
  },
  {
   "cell_type": "code",
   "execution_count": 19,
   "id": "a667b971",
   "metadata": {},
   "outputs": [
    {
     "name": "stdout",
     "output_type": "stream",
     "text": [
      "1\n",
      "Três\n",
      "Roma\n"
     ]
    }
   ],
   "source": [
    "print(tupla_1[0])\n",
    "print(tupla_1[1])\n",
    "print(tupla_1[2])"
   ]
  },
  {
   "cell_type": "code",
   "execution_count": 20,
   "id": "dae274bd",
   "metadata": {},
   "outputs": [
    {
     "ename": "TypeError",
     "evalue": "'tuple' object does not support item assignment",
     "output_type": "error",
     "traceback": [
      "\u001b[1;31m---------------------------------------------------------------------------\u001b[0m",
      "\u001b[1;31mTypeError\u001b[0m                                 Traceback (most recent call last)",
      "\u001b[1;32m~\\AppData\\Local\\Temp/ipykernel_7016/2680289674.py\u001b[0m in \u001b[0;36m<module>\u001b[1;34m\u001b[0m\n\u001b[1;32m----> 1\u001b[1;33m \u001b[0mtupla_1\u001b[0m\u001b[1;33m[\u001b[0m\u001b[1;36m2\u001b[0m\u001b[1;33m]\u001b[0m \u001b[1;33m=\u001b[0m \u001b[1;34m\"Bom dia\"\u001b[0m\u001b[1;33m\u001b[0m\u001b[1;33m\u001b[0m\u001b[0m\n\u001b[0m",
      "\u001b[1;31mTypeError\u001b[0m: 'tuple' object does not support item assignment"
     ]
    }
   ],
   "source": [
    "tupla_1[2] = \"Bom dia\""
   ]
  },
  {
   "cell_type": "code",
   "execution_count": 21,
   "id": "c7edfe10",
   "metadata": {},
   "outputs": [],
   "source": [
    "# Lista ou tupla vazias\n",
    "lista_2 = []\n",
    "tupla_2 = ()"
   ]
  },
  {
   "cell_type": "code",
   "execution_count": 22,
   "id": "cda87fa0",
   "metadata": {},
   "outputs": [
    {
     "name": "stdout",
     "output_type": "stream",
     "text": [
      "<class 'list'>\n",
      "<class 'tuple'>\n"
     ]
    }
   ],
   "source": [
    "print(type(lista_2))\n",
    "print(type(tupla_2))"
   ]
  },
  {
   "cell_type": "code",
   "execution_count": 25,
   "id": "c9226d25",
   "metadata": {},
   "outputs": [
    {
     "name": "stdout",
     "output_type": "stream",
     "text": [
      "3\n",
      "0\n"
     ]
    }
   ],
   "source": [
    "print(len(tupla_1))\n",
    "print(len(tupla_2))"
   ]
  },
  {
   "cell_type": "code",
   "execution_count": null,
   "id": "c2cdb292",
   "metadata": {},
   "outputs": [],
   "source": []
  }
 ],
 "metadata": {
  "kernelspec": {
   "display_name": "Python 3 (ipykernel)",
   "language": "python",
   "name": "python3"
  },
  "language_info": {
   "codemirror_mode": {
    "name": "ipython",
    "version": 3
   },
   "file_extension": ".py",
   "mimetype": "text/x-python",
   "name": "python",
   "nbconvert_exporter": "python",
   "pygments_lexer": "ipython3",
   "version": "3.9.7"
  }
 },
 "nbformat": 4,
 "nbformat_minor": 5
}
