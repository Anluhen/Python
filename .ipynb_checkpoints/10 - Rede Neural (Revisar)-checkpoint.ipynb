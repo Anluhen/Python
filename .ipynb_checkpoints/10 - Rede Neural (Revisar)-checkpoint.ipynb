{
 "cells": [
  {
   "cell_type": "code",
   "execution_count": 1,
   "id": "049d76ae",
   "metadata": {},
   "outputs": [],
   "source": [
    "import random\n",
    "random.seed(1)"
   ]
  },
  {
   "cell_type": "code",
   "execution_count": 2,
   "id": "a2f3320a",
   "metadata": {},
   "outputs": [],
   "source": [
    "import numpy as np"
   ]
  },
  {
   "cell_type": "code",
   "execution_count": 3,
   "id": "a50f84f3",
   "metadata": {},
   "outputs": [],
   "source": [
    "entradas = np.array([[0,0],[0,1],[1,0],[1,1]])\n",
    "saidas = np.array([[0,0,0,1]]).T"
   ]
  },
  {
   "cell_type": "code",
   "execution_count": 4,
   "id": "e5f0ae6a",
   "metadata": {},
   "outputs": [
    {
     "data": {
      "text/plain": [
       "array([[0, 0],\n",
       "       [0, 1],\n",
       "       [1, 0],\n",
       "       [1, 1]])"
      ]
     },
     "execution_count": 4,
     "metadata": {},
     "output_type": "execute_result"
    }
   ],
   "source": [
    "entradas"
   ]
  },
  {
   "cell_type": "code",
   "execution_count": 5,
   "id": "c42a3649",
   "metadata": {},
   "outputs": [
    {
     "data": {
      "text/plain": [
       "array([[0],\n",
       "       [0],\n",
       "       [0],\n",
       "       [1]])"
      ]
     },
     "execution_count": 5,
     "metadata": {},
     "output_type": "execute_result"
    }
   ],
   "source": [
    "saidas"
   ]
  },
  {
   "cell_type": "code",
   "execution_count": 6,
   "id": "41ca600b",
   "metadata": {},
   "outputs": [],
   "source": [
    "# Pesos da rede neural\n",
    "\n",
    "w1 = 2*np.random.random((2,4)) - 1\n",
    "w2 = 2*np.random.random((4,1)) - 1"
   ]
  },
  {
   "cell_type": "code",
   "execution_count": 7,
   "id": "31baeaff",
   "metadata": {},
   "outputs": [
    {
     "data": {
      "text/plain": [
       "array([[-0.26051873,  0.58712949, -0.62607309,  0.33214623],\n",
       "       [ 0.97937203, -0.50803551,  0.48693369,  0.97354337]])"
      ]
     },
     "execution_count": 7,
     "metadata": {},
     "output_type": "execute_result"
    }
   ],
   "source": [
    "w1"
   ]
  },
  {
   "cell_type": "markdown",
   "id": "828d7922",
   "metadata": {},
   "source": [
    "## "
   ]
  },
  {
   "cell_type": "code",
   "execution_count": 8,
   "id": "cbf65c7b",
   "metadata": {},
   "outputs": [
    {
     "data": {
      "text/plain": [
       "array([[-0.17238741],\n",
       "       [ 0.53603403],\n",
       "       [-0.96415517],\n",
       "       [-0.89964831]])"
      ]
     },
     "execution_count": 8,
     "metadata": {},
     "output_type": "execute_result"
    }
   ],
   "source": [
    "w2"
   ]
  },
  {
   "cell_type": "code",
   "execution_count": 9,
   "id": "82ce5354",
   "metadata": {},
   "outputs": [],
   "source": [
    "# Treinamento da rede neural\n",
    "\n",
    "for iteracao in range(10000):\n",
    "    camada1 = 1/ (1 + np.exp(-(np.dot(entradas,w1))))\n",
    "    camada2 = 1/ (1 + np.exp(-(np.dot(camada1,w2))))\n",
    "    camada2_delta = (saidas-camada2)*(camada2*(1-camada2))\n",
    "    camada1_delta = (camada2_delta.dot(w2.T))*(camada1*(1-camada1))\n",
    "    w2 += camada1.T.dot(camada2_delta)\n",
    "    w1 += entradas.T.dot(camada1_delta) "
   ]
  },
  {
   "cell_type": "code",
   "execution_count": 10,
   "id": "ff42bcf3",
   "metadata": {},
   "outputs": [
    {
     "data": {
      "text/plain": [
       "array([[0.],\n",
       "       [0.],\n",
       "       [0.],\n",
       "       [1.]])"
      ]
     },
     "execution_count": 10,
     "metadata": {},
     "output_type": "execute_result"
    }
   ],
   "source": [
    "camada2.round()"
   ]
  },
  {
   "cell_type": "code",
   "execution_count": 11,
   "id": "3624c234",
   "metadata": {},
   "outputs": [
    {
     "data": {
      "text/plain": [
       "array([[0.00200895],\n",
       "       [0.00959673],\n",
       "       [0.00847029],\n",
       "       [0.98782006]])"
      ]
     },
     "execution_count": 11,
     "metadata": {},
     "output_type": "execute_result"
    }
   ],
   "source": [
    "camada2"
   ]
  },
  {
   "cell_type": "code",
   "execution_count": null,
   "id": "034cb07b",
   "metadata": {},
   "outputs": [],
   "source": []
  }
 ],
 "metadata": {
  "kernelspec": {
   "display_name": "Python 3 (ipykernel)",
   "language": "python",
   "name": "python3"
  },
  "language_info": {
   "codemirror_mode": {
    "name": "ipython",
    "version": 3
   },
   "file_extension": ".py",
   "mimetype": "text/x-python",
   "name": "python",
   "nbconvert_exporter": "python",
   "pygments_lexer": "ipython3",
   "version": "3.9.7"
  }
 },
 "nbformat": 4,
 "nbformat_minor": 5
}
