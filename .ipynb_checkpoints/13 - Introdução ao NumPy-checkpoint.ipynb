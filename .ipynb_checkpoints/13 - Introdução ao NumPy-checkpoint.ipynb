{
 "cells": [
  {
   "cell_type": "code",
   "execution_count": 1,
   "id": "c20937ea",
   "metadata": {},
   "outputs": [],
   "source": [
    "import numpy as np"
   ]
  },
  {
   "cell_type": "code",
   "execution_count": 2,
   "id": "98da44aa",
   "metadata": {},
   "outputs": [
    {
     "name": "stdout",
     "output_type": "stream",
     "text": [
      "Help on package numpy.doc in numpy:\n",
      "\n",
      "NAME\n",
      "    numpy.doc\n",
      "\n",
      "DESCRIPTION\n",
      "    Topical documentation\n",
      "    =====================\n",
      "    \n",
      "    The following topics are available:\n",
      "    \n",
      "    - constants\n",
      "    - ufuncs\n",
      "    \n",
      "    You can view them by\n",
      "    \n",
      "    >>> help(np.doc.TOPIC)                                      #doctest: +SKIP\n",
      "\n",
      "PACKAGE CONTENTS\n",
      "    constants\n",
      "    ufuncs\n",
      "\n",
      "DATA\n",
      "    __all__ = ['constants', 'ufuncs', '__doc__']\n",
      "\n",
      "FILE\n",
      "    d:\\programas\\anaconda\\envs\\using\\lib\\site-packages\\numpy\\doc\\__init__.py\n",
      "\n",
      "\n"
     ]
    }
   ],
   "source": [
    "from numpy import doc\n",
    "\n",
    "help(doc)"
   ]
  },
  {
   "cell_type": "code",
   "execution_count": 3,
   "id": "d2e532f9",
   "metadata": {},
   "outputs": [
    {
     "name": "stdout",
     "output_type": "stream",
     "text": [
      "Help on module numpy.doc.ufuncs in numpy.doc:\n",
      "\n",
      "NAME\n",
      "    numpy.doc.ufuncs\n",
      "\n",
      "DESCRIPTION\n",
      "    ===================\n",
      "    Universal Functions\n",
      "    ===================\n",
      "    \n",
      "    Ufuncs are, generally speaking, mathematical functions or operations that are\n",
      "    applied element-by-element to the contents of an array. That is, the result\n",
      "    in each output array element only depends on the value in the corresponding\n",
      "    input array (or arrays) and on no other array elements. NumPy comes with a\n",
      "    large suite of ufuncs, and scipy extends that suite substantially. The simplest\n",
      "    example is the addition operator: ::\n",
      "    \n",
      "     >>> np.array([0,2,3,4]) + np.array([1,1,-1,2])\n",
      "     array([1, 3, 2, 6])\n",
      "    \n",
      "    The ufunc module lists all the available ufuncs in numpy. Documentation on\n",
      "    the specific ufuncs may be found in those modules. This documentation is\n",
      "    intended to address the more general aspects of ufuncs common to most of\n",
      "    them. All of the ufuncs that make use of Python operators (e.g., +, -, etc.)\n",
      "    have equivalent functions defined (e.g. add() for +)\n",
      "    \n",
      "    Type coercion\n",
      "    =============\n",
      "    \n",
      "    What happens when a binary operator (e.g., +,-,\\*,/, etc) deals with arrays of\n",
      "    two different types? What is the type of the result? Typically, the result is\n",
      "    the higher of the two types. For example: ::\n",
      "    \n",
      "     float32 + float64 -> float64\n",
      "     int8 + int32 -> int32\n",
      "     int16 + float32 -> float32\n",
      "     float32 + complex64 -> complex64\n",
      "    \n",
      "    There are some less obvious cases generally involving mixes of types\n",
      "    (e.g. uints, ints and floats) where equal bit sizes for each are not\n",
      "    capable of saving all the information in a different type of equivalent\n",
      "    bit size. Some examples are int32 vs float32 or uint32 vs int32.\n",
      "    Generally, the result is the higher type of larger size than both\n",
      "    (if available). So: ::\n",
      "    \n",
      "     int32 + float32 -> float64\n",
      "     uint32 + int32 -> int64\n",
      "    \n",
      "    Finally, the type coercion behavior when expressions involve Python\n",
      "    scalars is different than that seen for arrays. Since Python has a\n",
      "    limited number of types, combining a Python int with a dtype=np.int8\n",
      "    array does not coerce to the higher type but instead, the type of the\n",
      "    array prevails. So the rules for Python scalars combined with arrays is\n",
      "    that the result will be that of the array equivalent the Python scalar\n",
      "    if the Python scalar is of a higher 'kind' than the array (e.g., float\n",
      "    vs. int), otherwise the resultant type will be that of the array.\n",
      "    For example: ::\n",
      "    \n",
      "      Python int + int8 -> int8\n",
      "      Python float + int8 -> float64\n",
      "    \n",
      "    ufunc methods\n",
      "    =============\n",
      "    \n",
      "    Binary ufuncs support 4 methods.\n",
      "    \n",
      "    **.reduce(arr)** applies the binary operator to elements of the array in\n",
      "      sequence. For example: ::\n",
      "    \n",
      "     >>> np.add.reduce(np.arange(10))  # adds all elements of array\n",
      "     45\n",
      "    \n",
      "    For multidimensional arrays, the first dimension is reduced by default: ::\n",
      "    \n",
      "     >>> np.add.reduce(np.arange(10).reshape(2,5))\n",
      "         array([ 5,  7,  9, 11, 13])\n",
      "    \n",
      "    The axis keyword can be used to specify different axes to reduce: ::\n",
      "    \n",
      "     >>> np.add.reduce(np.arange(10).reshape(2,5),axis=1)\n",
      "     array([10, 35])\n",
      "    \n",
      "    **.accumulate(arr)** applies the binary operator and generates an an\n",
      "    equivalently shaped array that includes the accumulated amount for each\n",
      "    element of the array. A couple examples: ::\n",
      "    \n",
      "     >>> np.add.accumulate(np.arange(10))\n",
      "     array([ 0,  1,  3,  6, 10, 15, 21, 28, 36, 45])\n",
      "     >>> np.multiply.accumulate(np.arange(1,9))\n",
      "     array([    1,     2,     6,    24,   120,   720,  5040, 40320])\n",
      "    \n",
      "    The behavior for multidimensional arrays is the same as for .reduce(),\n",
      "    as is the use of the axis keyword).\n",
      "    \n",
      "    **.reduceat(arr,indices)** allows one to apply reduce to selected parts\n",
      "      of an array. It is a difficult method to understand. See the documentation\n",
      "      at:\n",
      "    \n",
      "    **.outer(arr1,arr2)** generates an outer operation on the two arrays arr1 and\n",
      "      arr2. It will work on multidimensional arrays (the shape of the result is\n",
      "      the concatenation of the two input shapes.: ::\n",
      "    \n",
      "     >>> np.multiply.outer(np.arange(3),np.arange(4))\n",
      "     array([[0, 0, 0, 0],\n",
      "            [0, 1, 2, 3],\n",
      "            [0, 2, 4, 6]])\n",
      "    \n",
      "    Output arguments\n",
      "    ================\n",
      "    \n",
      "    All ufuncs accept an optional output array. The array must be of the expected\n",
      "    output shape. Beware that if the type of the output array is of a different\n",
      "    (and lower) type than the output result, the results may be silently truncated\n",
      "    or otherwise corrupted in the downcast to the lower type. This usage is useful\n",
      "    when one wants to avoid creating large temporary arrays and instead allows one\n",
      "    to reuse the same array memory repeatedly (at the expense of not being able to\n",
      "    use more convenient operator notation in expressions). Note that when the\n",
      "    output argument is used, the ufunc still returns a reference to the result.\n",
      "    \n",
      "     >>> x = np.arange(2)\n",
      "     >>> np.add(np.arange(2),np.arange(2.),x)\n",
      "     array([0, 2])\n",
      "     >>> x\n",
      "     array([0, 2])\n",
      "    \n",
      "    and & or as ufuncs\n",
      "    ==================\n",
      "    \n",
      "    Invariably people try to use the python 'and' and 'or' as logical operators\n",
      "    (and quite understandably). But these operators do not behave as normal\n",
      "    operators since Python treats these quite differently. They cannot be\n",
      "    overloaded with array equivalents. Thus using 'and' or 'or' with an array\n",
      "    results in an error. There are two alternatives:\n",
      "    \n",
      "     1) use the ufunc functions logical_and() and logical_or().\n",
      "     2) use the bitwise operators & and \\|. The drawback of these is that if\n",
      "        the arguments to these operators are not boolean arrays, the result is\n",
      "        likely incorrect. On the other hand, most usages of logical_and and\n",
      "        logical_or are with boolean arrays. As long as one is careful, this is\n",
      "        a convenient way to apply these operators.\n",
      "\n",
      "FILE\n",
      "    d:\\programas\\anaconda\\envs\\using\\lib\\site-packages\\numpy\\doc\\ufuncs.py\n",
      "\n",
      "\n"
     ]
    }
   ],
   "source": [
    "help(np.doc.ufuncs)"
   ]
  },
  {
   "cell_type": "code",
   "execution_count": 4,
   "id": "b034c08c",
   "metadata": {},
   "outputs": [
    {
     "data": {
      "text/plain": [
       "array([1, 2, 3, 4, 5, 6, 7, 8, 9])"
      ]
     },
     "execution_count": 4,
     "metadata": {},
     "output_type": "execute_result"
    }
   ],
   "source": [
    "v1 = np.array(list(range(1,10)))\n",
    "\n",
    "v1"
   ]
  },
  {
   "cell_type": "code",
   "execution_count": 5,
   "id": "94f6108f",
   "metadata": {},
   "outputs": [
    {
     "name": "stderr",
     "output_type": "stream",
     "text": [
      "C:\\Users\\andre\\AppData\\Local\\Temp/ipykernel_11196/397669982.py:1: VisibleDeprecationWarning: Creating an ndarray from ragged nested sequences (which is a list-or-tuple of lists-or-tuples-or ndarrays with different lengths or shapes) is deprecated. If you meant to do this, you must specify 'dtype=object' when creating the ndarray.\n",
      "  v2 = np.array([100,list(range(1,10))])\n"
     ]
    },
    {
     "data": {
      "text/plain": [
       "array([100, list([1, 2, 3, 4, 5, 6, 7, 8, 9])], dtype=object)"
      ]
     },
     "execution_count": 5,
     "metadata": {},
     "output_type": "execute_result"
    }
   ],
   "source": [
    "v2 = np.array([100,list(range(1,10))])\n",
    "\n",
    "v2"
   ]
  },
  {
   "cell_type": "code",
   "execution_count": 6,
   "id": "613e0db3",
   "metadata": {},
   "outputs": [
    {
     "name": "stdout",
     "output_type": "stream",
     "text": [
      "100\n",
      "[1, 2, 3, 4, 5, 6, 7, 8, 9]\n",
      "3\n"
     ]
    }
   ],
   "source": [
    "print(v2[0])\n",
    "print(v2[1])\n",
    "print(v2[1][2])"
   ]
  },
  {
   "cell_type": "code",
   "execution_count": 7,
   "id": "afb9b222",
   "metadata": {},
   "outputs": [
    {
     "name": "stdout",
     "output_type": "stream",
     "text": [
      "[[1]\n",
      " [2]\n",
      " [3]\n",
      " [4]\n",
      " [5]\n",
      " [6]\n",
      " [7]\n",
      " [8]\n",
      " [9]]\n",
      "[1 2 3 4 5 6 7 8 9]\n"
     ]
    }
   ],
   "source": [
    "print(np.vstack(v2[1]))\n",
    "\n",
    "print(np.hstack(v2[1]))"
   ]
  },
  {
   "cell_type": "code",
   "execution_count": 8,
   "id": "690f32df",
   "metadata": {},
   "outputs": [
    {
     "data": {
      "text/plain": [
       "array([[1, 2, 3],\n",
       "       [4, 5, 6],\n",
       "       [7, 8, 9]])"
      ]
     },
     "execution_count": 8,
     "metadata": {},
     "output_type": "execute_result"
    }
   ],
   "source": [
    "v1.reshape(3,3)"
   ]
  },
  {
   "cell_type": "code",
   "execution_count": 9,
   "id": "483849c8",
   "metadata": {},
   "outputs": [
    {
     "data": {
      "text/plain": [
       "array([[1.5, 2. , 3. ],\n",
       "       [4. , 5. , 6. ],\n",
       "       [3. , 2. , 1. ],\n",
       "       [4. , 5. , 6. ]])"
      ]
     },
     "execution_count": 9,
     "metadata": {},
     "output_type": "execute_result"
    }
   ],
   "source": [
    "m1 = np.array([(1.5,2,3),(4,5,6),(3,2,1),(4,5,6)])\n",
    "\n",
    "m1"
   ]
  },
  {
   "cell_type": "code",
   "execution_count": 10,
   "id": "68bfb679",
   "metadata": {},
   "outputs": [
    {
     "data": {
      "text/plain": [
       "array([[1, 2, 3],\n",
       "       [4, 5, 6],\n",
       "       [3, 2, 1],\n",
       "       [4, 5, 6]])"
      ]
     },
     "execution_count": 10,
     "metadata": {},
     "output_type": "execute_result"
    }
   ],
   "source": [
    "m2 = np.array([(1.5,2,3),(4,5,6),(3,2,1),(4,5,6)], dtype=int)\n",
    "\n",
    "m2"
   ]
  },
  {
   "cell_type": "code",
   "execution_count": 11,
   "id": "00100857",
   "metadata": {},
   "outputs": [
    {
     "name": "stdout",
     "output_type": "stream",
     "text": [
      "Array preenchido com zeros\n",
      "[0 0 0 0 0 0 0 0 0 0]\n",
      "\n",
      "Array preenchido com 1\n",
      "[1. 1. 1. 1. 1.]\n",
      "\n",
      "Matriz 5x5 preenchida com 1\n",
      "[[1. 1. 1. 1. 1.]\n",
      " [1. 1. 1. 1. 1.]\n",
      " [1. 1. 1. 1. 1.]\n",
      " [1. 1. 1. 1. 1.]\n",
      " [1. 1. 1. 1. 1.]]\n",
      "\n",
      "Matriz ou vetor com números iguais\n",
      "[[42 42]\n",
      " [42 42]\n",
      " [42 42]]\n",
      "\n",
      "Matriz identidade\n",
      "[[1. 0. 0. 0. 0.]\n",
      " [0. 1. 0. 0. 0.]\n",
      " [0. 0. 1. 0. 0.]\n",
      " [0. 0. 0. 1. 0.]\n",
      " [0. 0. 0. 0. 1.]]\n",
      "\n",
      "Arrays sequenciais - com a sequência definida\n",
      "[100 102 104 106 108 110 112 114 116 118]\n",
      "\n",
      "O com a sequencia definida pelo NumPy\n",
      "[ 0.    1.25  2.5   3.75  5.    6.25  7.5   8.75 10.  ]\n"
     ]
    }
   ],
   "source": [
    "print(\"Array preenchido com zeros\")\n",
    "print(np.zeros(10, dtype=int))\n",
    "print()\n",
    "print(\"Array preenchido com 1\")\n",
    "print(np.ones(5))\n",
    "print()\n",
    "print(\"Matriz 5x5 preenchida com 1\")\n",
    "print(np.ones((5,5)))\n",
    "print()\n",
    "print(\"Matriz ou vetor com números iguais\")\n",
    "print(np.full((3,2),42))\n",
    "print()\n",
    "print(\"Matriz identidade\")\n",
    "print(np.eye(5,5))\n",
    "print()\n",
    "print(\"Arrays sequenciais - com a sequência definida\")\n",
    "print(np.arange(100,120,2))\n",
    "print()\n",
    "print(\"O com a sequencia definida pelo NumPy\")\n",
    "print(np.linspace(0,10,9))"
   ]
  },
  {
   "cell_type": "code",
   "execution_count": 12,
   "id": "dadd7842",
   "metadata": {},
   "outputs": [
    {
     "name": "stdout",
     "output_type": "stream",
     "text": [
      "Matriz com números aleatórios entre 0 e 1\n",
      "[[0.8310717  0.02348544]\n",
      " [0.64702891 0.08152543]]\n",
      "\n",
      "Números inteiros aleatórios\n",
      "[36  3 35 58 45 43]\n",
      "\n",
      "Número aleatório da distribuição normal\n",
      "-0.6660997058898932\n",
      "\n",
      "Números aleatórios da distribuição normal\n",
      "[-0.09427576 -0.07394081 -0.15222358]\n",
      "\n",
      "Número aleatório da distribuição uniforme\n",
      "0.6329302336865864\n",
      "\n",
      "Números aleatórios da distribuição uniforme\n",
      "[0.46581216 0.77884205 0.46655365 0.5618386  0.59860409]\n",
      "\n",
      "Lembre-se que voce pode criar matrizes aleatórias da distribuição normal com reshape\n",
      "[[ 1.69236875  1.16013563]\n",
      " [ 1.17660934  0.11061743]\n",
      " [ 0.14430772 -1.77720608]\n",
      " [-2.04941962 -0.25003277]]\n",
      "\n"
     ]
    }
   ],
   "source": [
    "print(\"Matriz com números aleatórios entre 0 e 1\")\n",
    "print(np.random.random((2,2)))\n",
    "print()\n",
    "print(\"Números inteiros aleatórios\")\n",
    "print(np.random.randint(1,60,size=6))\n",
    "print()\n",
    "print(\"Número aleatório da distribuição normal\")\n",
    "print(np.random.normal())\n",
    "print()\n",
    "print(\"Números aleatórios da distribuição normal\")\n",
    "print(np.random.randn(3))\n",
    "print()\n",
    "print(\"Número aleatório da distribuição uniforme\")\n",
    "print(np.random.uniform())\n",
    "print()\n",
    "print(\"Números aleatórios da distribuição uniforme\")\n",
    "print(np.random.uniform(size=5))\n",
    "print()\n",
    "print(\"Lembre-se que voce pode criar matrizes aleatórias da distribuição normal com reshape\")\n",
    "print(np.random.randn(8).reshape(4,2))\n",
    "print()"
   ]
  },
  {
   "cell_type": "code",
   "execution_count": 13,
   "id": "e182c279",
   "metadata": {},
   "outputs": [],
   "source": [
    "%matplotlib inline\n",
    "\n",
    "import matplotlib.pyplot as plt"
   ]
  },
  {
   "cell_type": "code",
   "execution_count": 14,
   "id": "8671ba43",
   "metadata": {},
   "outputs": [
    {
     "data": {
      "image/png": "[encoded data removed]",
      "text/plain": [
       "<Figure size 432x288 with 1 Axes>"
      ]
     },
     "metadata": {
      "needs_background": "light"
     },
     "output_type": "display_data"
    }
   ],
   "source": [
    "data = np.random.randn(50000)\n",
    "\n",
    "hx, hy, _ = plt.hist(data, bins=25, density=1, color=\"blue\")\n",
    "\n",
    "plt.ylim(0.0,max(hx)+0.05)\n",
    "plt.title('Números aleatórios da distribuição normal')\n",
    "plt.grid()"
   ]
  },
  {
   "cell_type": "code",
   "execution_count": null,
   "id": "dadae13b",
   "metadata": {},
   "outputs": [],
   "source": []
  }
 ],
 "metadata": {
  "kernelspec": {
   "display_name": "Python 3 (ipykernel)",
   "language": "python",
   "name": "python3"
  },
  "language_info": {
   "codemirror_mode": {
    "name": "ipython",
    "version": 3
   },
   "file_extension": ".py",
   "mimetype": "text/x-python",
   "name": "python",
   "nbconvert_exporter": "python",
   "pygments_lexer": "ipython3",
   "version": "3.9.7"
  }
 },
 "nbformat": 4,
 "nbformat_minor": 5
}
