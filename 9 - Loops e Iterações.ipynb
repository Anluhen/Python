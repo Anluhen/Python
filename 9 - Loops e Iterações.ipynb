{
 "cells": [
  {
   "cell_type": "code",
   "execution_count": 1,
   "id": "5649a252",
   "metadata": {},
   "outputs": [],
   "source": [
    "# Loops podem ser condicionais, sequenciais ou existir enquanto uma condição não for alcançada"
   ]
  },
  {
   "cell_type": "code",
   "execution_count": 7,
   "id": "f40f3469",
   "metadata": {},
   "outputs": [],
   "source": [
    "var = \"Eu vou aprender a programar\""
   ]
  },
  {
   "cell_type": "code",
   "execution_count": 8,
   "id": "cf2c3b71",
   "metadata": {},
   "outputs": [
    {
     "name": "stdout",
     "output_type": "stream",
     "text": [
      "E\n",
      "u\n",
      " \n",
      "v\n",
      "o\n",
      "u\n",
      " \n",
      "a\n",
      "p\n",
      "r\n",
      "e\n",
      "n\n",
      "d\n",
      "e\n",
      "r\n",
      " \n",
      "a\n",
      " \n",
      "p\n",
      "r\n",
      "o\n",
      "g\n",
      "r\n",
      "a\n",
      "m\n",
      "a\n",
      "r\n"
     ]
    }
   ],
   "source": [
    "for letras in var:\n",
    "    print(letras)"
   ]
  },
  {
   "cell_type": "code",
   "execution_count": 9,
   "id": "409bcb85",
   "metadata": {},
   "outputs": [],
   "source": [
    "var = [\"Eu\", \"vou\", \"aprender\", \"a\", \"programar\"]"
   ]
  },
  {
   "cell_type": "code",
   "execution_count": 10,
   "id": "db8b77af",
   "metadata": {},
   "outputs": [
    {
     "name": "stdout",
     "output_type": "stream",
     "text": [
      "Eu\n",
      "vou\n",
      "aprender\n",
      "a\n",
      "programar\n",
      "Acabou\n"
     ]
    }
   ],
   "source": [
    "for palavras in var:\n",
    "    print(palavras)\n",
    "print(\"Acabou\")"
   ]
  },
  {
   "cell_type": "code",
   "execution_count": 11,
   "id": "01ec4aa6",
   "metadata": {},
   "outputs": [
    {
     "name": "stdout",
     "output_type": "stream",
     "text": [
      "[1, 2, 3, 4, 5, 6, 7, 8, 9, 10, 11, 12, 13, 14, 15, 16, 17, 18, 19, 20, 21, 22, 23, 24, 25, 26, 27, 28, 29, 30]\n"
     ]
    }
   ],
   "source": [
    "# Loop for com o if\n",
    "\n",
    "dia_mes = list(range(1, 31))\n",
    "\n",
    "print(dia_mes)"
   ]
  },
  {
   "cell_type": "code",
   "execution_count": 12,
   "id": "d2baee48",
   "metadata": {},
   "outputs": [
    {
     "name": "stdout",
     "output_type": "stream",
     "text": [
      "Já passou do dia 15. Hoje é dia:  15\n",
      "Já passou do dia 15. Hoje é dia:  16\n",
      "Já passou do dia 15. Hoje é dia:  17\n",
      "Já passou do dia 15. Hoje é dia:  18\n",
      "Já passou do dia 15. Hoje é dia:  19\n",
      "Já passou do dia 15. Hoje é dia:  20\n",
      "Já passou do dia 15. Hoje é dia:  21\n",
      "Já passou do dia 15. Hoje é dia:  22\n",
      "Já passou do dia 15. Hoje é dia:  23\n",
      "Já passou do dia 15. Hoje é dia:  24\n",
      "Já passou do dia 15. Hoje é dia:  25\n",
      "Já passou do dia 15. Hoje é dia:  26\n",
      "Já passou do dia 15. Hoje é dia:  27\n",
      "Já passou do dia 15. Hoje é dia:  28\n",
      "Já passou do dia 15. Hoje é dia:  29\n",
      "Já passou do dia 15. Hoje é dia:  30\n"
     ]
    }
   ],
   "source": [
    "for dias in dia_mes:\n",
    "    if dias >= 15:\n",
    "        print('Já passou do dia 15. Hoje é dia: ', dias)"
   ]
  },
  {
   "cell_type": "code",
   "execution_count": 13,
   "id": "cb4c84bc",
   "metadata": {},
   "outputs": [],
   "source": [
    "import numpy as np"
   ]
  },
  {
   "cell_type": "code",
   "execution_count": 14,
   "id": "1f71388d",
   "metadata": {},
   "outputs": [
    {
     "data": {
      "text/plain": [
       "array([[10, 11, 12],\n",
       "       [13, 14, 15],\n",
       "       [16, 17, 18]])"
      ]
     },
     "execution_count": 14,
     "metadata": {},
     "output_type": "execute_result"
    }
   ],
   "source": [
    "matriz_loop = np.array([[10, 11, 12],\n",
    "                       [13, 14, 15], [16, 17, 18]])\n",
    "\n",
    "matriz_loop"
   ]
  },
  {
   "cell_type": "code",
   "execution_count": 15,
   "id": "abbd44e0",
   "metadata": {},
   "outputs": [
    {
     "data": {
      "text/plain": [
       "3"
      ]
     },
     "execution_count": 15,
     "metadata": {},
     "output_type": "execute_result"
    }
   ],
   "source": [
    "matriz_loop.shape[1]"
   ]
  },
  {
   "cell_type": "code",
   "execution_count": 17,
   "id": "94aa20da",
   "metadata": {},
   "outputs": [
    {
     "name": "stdout",
     "output_type": "stream",
     "text": [
      "10\n",
      "11\n",
      "12\n",
      "13\n",
      "14\n",
      "15\n",
      "16\n",
      "17\n",
      "18\n"
     ]
    }
   ],
   "source": [
    "for i in list(range(0,matriz_loop.shape[0])):\n",
    "    for j in list(range(0,matriz_loop.shape[1])):\n",
    "        print(matriz_loop[i][j])"
   ]
  },
  {
   "cell_type": "code",
   "execution_count": 18,
   "id": "cff002b2",
   "metadata": {},
   "outputs": [
    {
     "data": {
      "text/plain": [
       "array([[0., 0., 0., 0., 0., 0., 0., 0.],\n",
       "       [0., 0., 0., 0., 0., 0., 0., 0.],\n",
       "       [0., 0., 0., 0., 0., 0., 0., 0.],\n",
       "       [0., 0., 0., 0., 0., 0., 0., 0.],\n",
       "       [0., 0., 0., 0., 0., 0., 0., 0.]])"
      ]
     },
     "execution_count": 18,
     "metadata": {},
     "output_type": "execute_result"
    }
   ],
   "source": [
    "# For serve também para fazer atribuições\n",
    "\n",
    "anos = np.zeros((5,8))\n",
    "\n",
    "anos"
   ]
  },
  {
   "cell_type": "code",
   "execution_count": 19,
   "id": "f98faef5",
   "metadata": {},
   "outputs": [],
   "source": [
    "inicio = 2010"
   ]
  },
  {
   "cell_type": "code",
   "execution_count": 20,
   "id": "c7148eb2",
   "metadata": {},
   "outputs": [],
   "source": [
    "for i in list(range(0, anos.shape[0])):\n",
    "    for j in list(range(0, anos.shape[1])):\n",
    "        anos[i, j] = inicio\n",
    "        inicio = inicio + 1"
   ]
  },
  {
   "cell_type": "code",
   "execution_count": 21,
   "id": "022da6f6",
   "metadata": {},
   "outputs": [
    {
     "data": {
      "text/plain": [
       "array([[2010., 2011., 2012., 2013., 2014., 2015., 2016., 2017.],\n",
       "       [2018., 2019., 2020., 2021., 2022., 2023., 2024., 2025.],\n",
       "       [2026., 2027., 2028., 2029., 2030., 2031., 2032., 2033.],\n",
       "       [2034., 2035., 2036., 2037., 2038., 2039., 2040., 2041.],\n",
       "       [2042., 2043., 2044., 2045., 2046., 2047., 2048., 2049.]])"
      ]
     },
     "execution_count": 21,
     "metadata": {},
     "output_type": "execute_result"
    }
   ],
   "source": [
    "anos"
   ]
  },
  {
   "cell_type": "code",
   "execution_count": 30,
   "id": "2e7d2628",
   "metadata": {},
   "outputs": [
    {
     "name": "stdout",
     "output_type": "stream",
     "text": [
      "[  0.   1.   1.   2.   3.   5.   8.  13.  21.  34.  55.  89. 144. 233.\n",
      " 377. 610. 987.]\n"
     ]
    }
   ],
   "source": [
    "# Sequência de Fibonacci\n",
    "\n",
    "n_elementos = 17\n",
    "\n",
    "fibonacci = np.zeros(n_elementos)\n",
    "\n",
    "fibonacci[1] = 1\n",
    "\n",
    "for f in list(range(2, n_elementos)):\n",
    "    fibonacci[f] = fibonacci[f-1] + fibonacci[f-2]\n",
    "        \n",
    "print(fibonacci)"
   ]
  },
  {
   "cell_type": "code",
   "execution_count": null,
   "id": "38dfd44c",
   "metadata": {},
   "outputs": [],
   "source": []
  }
 ],
 "metadata": {
  "kernelspec": {
   "display_name": "Python 3 (ipykernel)",
   "language": "python",
   "name": "python3"
  },
  "language_info": {
   "codemirror_mode": {
    "name": "ipython",
    "version": 3
   },
   "file_extension": ".py",
   "mimetype": "text/x-python",
   "name": "python",
   "nbconvert_exporter": "python",
   "pygments_lexer": "ipython3",
   "version": "3.9.7"
  }
 },
 "nbformat": 4,
 "nbformat_minor": 5
}
